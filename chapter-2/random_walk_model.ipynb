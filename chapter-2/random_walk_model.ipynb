{
 "cells": [
  {
   "cell_type": "markdown",
   "metadata": {},
   "source": [
    "## Random Walk Model\n",
    "\n",
    "The code implementation of a **random walk model in a square lattice (2D)**.\n",
    "\n",
    "- The walker starts at the origin (0,0) and moves randomly in the lattice.\n",
    "- The walker can move in four directions: up, down, left, right. *All with equal probability*.\n",
    "- The walker can move only one step at a time.\n",
    "\n"
   ]
  }
 ],
 "metadata": {
  "language_info": {
   "name": "python"
  }
 },
 "nbformat": 4,
 "nbformat_minor": 2
}
